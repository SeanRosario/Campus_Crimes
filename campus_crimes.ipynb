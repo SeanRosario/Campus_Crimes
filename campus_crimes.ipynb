{
 "cells": [
  {
   "cell_type": "code",
   "execution_count": 1,
   "metadata": {
    "collapsed": true
   },
   "outputs": [],
   "source": [
    "import numpy as np \n",
    "import pandas as pd \n",
    "import matplotlib.pyplot as plt "
   ]
  },
  {
   "cell_type": "code",
   "execution_count": 2,
   "metadata": {
    "collapsed": false
   },
   "outputs": [
    {
     "name": "stdout",
     "output_type": "stream",
     "text": [
      "(11064, 42)\n"
     ]
    }
   ],
   "source": [
    "on_campus_crime = pd.read_excel(\"data/oncampuscrime101112.xls\")\n",
    "print on_campus_crime.shape"
   ]
  },
  {
   "cell_type": "code",
   "execution_count": 3,
   "metadata": {
    "collapsed": false
   },
   "outputs": [
    {
     "data": {
      "text/plain": [
       "array([u'UNITID_P', u'INSTNM', u'BRANCH', u'Address', u'City', u'State',\n",
       "       u'ZIP', u'sector_cd', u'Sector_desc', u'men_total', u'women_total',\n",
       "       u'Total', u'MURD10', u'NEG_M10', u'FORCIB10', u'NONFOR10',\n",
       "       u'ROBBE10', u'AGG_A10', u'BURGLA10', u'VEHIC10', u'ARSON10',\n",
       "       u'MURD11', u'NEG_M11', u'FORCIB11', u'NONFOR11', u'ROBBE11',\n",
       "       u'AGG_A11', u'BURGLA11', u'VEHIC11', u'ARSON11', u'MURD12',\n",
       "       u'NEG_M12', u'FORCIB12', u'NONFOR12', u'ROBBE12', u'AGG_A12',\n",
       "       u'BURGLA12', u'VEHIC12', u'ARSON12', u'FILTER10', u'FILTER11',\n",
       "       u'FILTER12'], dtype=object)"
      ]
     },
     "execution_count": 3,
     "metadata": {},
     "output_type": "execute_result"
    }
   ],
   "source": [
    "on_campus_crime.columns.values"
   ]
  },
  {
   "cell_type": "code",
   "execution_count": 5,
   "metadata": {
    "collapsed": false
   },
   "outputs": [],
   "source": [
    "#on_campus_crime.dtypes"
   ]
  },
  {
   "cell_type": "code",
   "execution_count": 7,
   "metadata": {
    "collapsed": false
   },
   "outputs": [
    {
     "name": "stdout",
     "output_type": "stream",
     "text": [
      "Address 2\n",
      "State 176\n",
      "ZIP 43\n",
      "men_total 42\n",
      "women_total 42\n",
      "Total 42\n",
      "MURD10 1371\n",
      "NEG_M10 1371\n",
      "FORCIB10 1371\n",
      "NONFOR10 1371\n",
      "ROBBE10 1371\n",
      "AGG_A10 1371\n",
      "BURGLA10 1371\n",
      "VEHIC10 1371\n",
      "ARSON10 1371\n",
      "MURD11 565\n",
      "NEG_M11 565\n",
      "FORCIB11 565\n",
      "NONFOR11 565\n",
      "ROBBE11 565\n",
      "AGG_A11 565\n",
      "BURGLA11 565\n",
      "VEHIC11 565\n",
      "ARSON11 565\n"
     ]
    }
   ],
   "source": [
    "# Histogram of different crimes year wise\n",
    "\n",
    "for column in on_campus_crime.columns.values:\n",
    "    if on_campus_crime[column].isnull().sum().sum() != 0:\n",
    "        print column, on_campus_crime[column].isnull().sum().sum()\n",
    "        \n",
    "## Note: Only 2010 and 2011 year's data are missing. 2012 is completely filled"
   ]
  },
  {
   "cell_type": "code",
   "execution_count": 14,
   "metadata": {
    "collapsed": false
   },
   "outputs": [
    {
     "name": "stdout",
     "output_type": "stream",
     "text": [
      "27\n"
     ]
    }
   ],
   "source": [
    "college_name = \"Harvard University\" # User Input in the final software\n",
    "\n",
    "crimes_list = ['MURD', 'NEG_M', 'FORCIB', 'NONFOR', 'ROBBE', 'AGG_A', 'BURGLA', 'VEHIC', 'ARSON']\n",
    "years = ['10', '11', '12']\n",
    "\n",
    "total_crime_facts = []\n",
    "for year in years:\n",
    "    for crime in crimes_list:\n",
    "        total_crime_facts.append(crime + year)\n",
    "\n",
    "print len(total_crime_facts)"
   ]
  },
  {
   "cell_type": "code",
   "execution_count": 26,
   "metadata": {
    "collapsed": false
   },
   "outputs": [],
   "source": [
    "college_specific = on_campus_crime[on_campus_crime.INSTNM == college_name]\n",
    "number_of_students = college_specific.Total.values[0]\n",
    "crime_freq_over_time = {}\n",
    "#print college_specific.Total.values[0]\n",
    "\n",
    "for crime in crimes_list:\n",
    "    crime_freq_over_time[crime] = college_specific[[crime + year for year in years]]\n",
    "    crime_freq_over_time[crime] = crime_freq_over_time[crime] / number_of_students"
   ]
  },
  {
   "cell_type": "code",
   "execution_count": 27,
   "metadata": {
    "collapsed": false
   },
   "outputs": [
    {
     "name": "stdout",
     "output_type": "stream",
     "text": [
      "      BURGLA10  BURGLA11  BURGLA12\n",
      "3099  0.001243  0.000853  0.001208\n",
      "3100  0.000178  0.000142  0.000178\n"
     ]
    }
   ],
   "source": [
    "#for crime in crimes_list:\n",
    "print crime_freq_over_time[\"BURGLA\"]\n",
    "    \n",
    "#total_crime_facts"
   ]
  },
  {
   "cell_type": "code",
   "execution_count": 28,
   "metadata": {
    "collapsed": false
   },
   "outputs": [],
   "source": [
    "ax = plt.subplot(111)\n",
    "w = 0.3\n",
    "y_10 = []\n",
    "y_11 = []\n",
    "y_12 = []\n",
    "\n",
    "for crime in crimes_list:\n",
    "    freq_list = crime_freq_over_time[crime].values.tolist()\n",
    "    y_10.append(freq_list[0][0])\n",
    "    y_11.append(freq_list[0][1])\n",
    "    y_12.append(freq_list[0][2])\n",
    "x = np.array(range(1, len(crimes_list) + 1))\n",
    "ax.bar(x - w, y_10, width = w, color='r', align='center')\n",
    "ax.bar(x, y_11, width = w, color='g', align='center')\n",
    "ax.bar(x + w, y_12, width = w, color='b', align='center')\n",
    "ax.autoscale(tight=True)\n",
    "plt.show()"
   ]
  },
  {
   "cell_type": "code",
   "execution_count": 57,
   "metadata": {
    "collapsed": false
   },
   "outputs": [],
   "source": [
    "import datetime\n",
    "from matplotlib.dates import date2num\n",
    "x = [datetime.datetime(2011, 1, 4, 0, 0),\n",
    "     datetime.datetime(2011, 1, 5, 0, 0),\n",
    "     datetime.datetime(2011, 1, 6, 0, 0)]\n",
    "x = date2num(x)"
   ]
  },
  {
   "cell_type": "code",
   "execution_count": 58,
   "metadata": {
    "collapsed": false
   },
   "outputs": [
    {
     "data": {
      "text/plain": [
       "numpy.ndarray"
      ]
     },
     "execution_count": 58,
     "metadata": {},
     "output_type": "execute_result"
    }
   ],
   "source": [
    "type(x)"
   ]
  },
  {
   "cell_type": "code",
   "execution_count": null,
   "metadata": {
    "collapsed": true
   },
   "outputs": [],
   "source": []
  }
 ],
 "metadata": {
  "kernelspec": {
   "display_name": "Python 2",
   "language": "python",
   "name": "python2"
  },
  "language_info": {
   "codemirror_mode": {
    "name": "ipython",
    "version": 2
   },
   "file_extension": ".py",
   "mimetype": "text/x-python",
   "name": "python",
   "nbconvert_exporter": "python",
   "pygments_lexer": "ipython2",
   "version": "2.7.10"
  }
 },
 "nbformat": 4,
 "nbformat_minor": 0
}
